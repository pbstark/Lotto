{
 "cells": [
  {
   "cell_type": "markdown",
   "metadata": {},
   "source": [
    "# Plausability of Lottery Luck\n",
    "\n",
    "This tool appraises whether it is plausible that a given individual won a set of lottery prizes honestly. \n",
    "\n",
    "The code reads a comma-separated values file (CSV) of wins and odds.\n",
    "\n",
    "The user inputs the number of residents of the state, and a tiny \"threshold\" probability.\n",
    "\n",
    "The code outputs a lower bound on the amount everyone in the state would have had to spend for any of them to have a tiny chance of winning so often, where \"tiny\" is the threshold number chosen by the user.\n",
    "\n",
    "If the required spending amount is, for example, several times the median house price in the state, it may call into question whether the winner won honestly.\n",
    "\n",
    "The current version can analyze data for only one gambler at a time. "
   ]
  },
  {
   "cell_type": "markdown",
   "metadata": {},
   "source": [
    "## Instructions:\n",
    "1. Compile a CSV file for each gambler. The CSV file should contain three columns:  \"Probability,\" \"Number,\" and \"Cost.\" \n",
    "\n",
    "Each row corresponds to one type of wager. \"Probability\" is the chance of winning that wager; \"Number\" is the number of times the gambler collected on that wager; and \"Cost\" is the cost per ticket or play on that wager.\n",
    "\n",
    "2. Put the filename of your CSV file in the box below, along with the values of POPULATION and THRESHOLD.\n",
    "\n",
    "3. On the toolbar of this browser window (under the jupyter logo), click \"Cell\" --> \"Run All\". Wait a bit for your results to appear at the bottom of this page. "
   ]
  },
  {
   "cell_type": "code",
   "execution_count": 1,
   "metadata": {
    "collapsed": true
   },
   "outputs": [],
   "source": [
    "from __future__ import print_function, division\n",
    "\n",
    "# Put the name of your CSV file here:\n",
    "# CSV_FILENAME = 'FILL_ME_IN.csv'\n",
    "CSV_FILENAME = 'manning-edit.csv'\n",
    "\n",
    "# set the cutoff probability\n",
    "POPULATION = 10**7   # population of North Carolina\n",
    "THRESHOLD = 10**(-7) # one in ten million threshold\n",
    "\n",
    "CUT = THRESHOLD / POPULATION # Bonferroni value of cutoff"
   ]
  },
  {
   "cell_type": "code",
   "execution_count": 2,
   "metadata": {
    "collapsed": false
   },
   "outputs": [],
   "source": [
    "import numpy as np\n",
    "from scipy.special import betainc\n",
    "from scipy.optimize import minimize\n",
    "\n",
    "def binTail(p, n, t):\n",
    "    return betainc(n, t - n + 1, p)\n",
    "\n",
    "def constraintFn(p, n):\n",
    "    return lambda x: np.sum(np.log(binTail(p, n, x))) - np.log(CUT)\n",
    "\n",
    "def objectiveFn(c):\n",
    "    return lambda x: np.dot(x, c)\n",
    "\n",
    "def solve(x0, upperBoundVec, p, n, c, eps, debugMode):\n",
    "    cons = ({'type': 'ineq', 'fun': constraintFn(p, n)})\n",
    "    bnds = tuple((n[i], upperBoundVec[i]) for i in range(len(n)))\n",
    "    return minimize(objectiveFn(c), x0, method='SLSQP', jac=(lambda x: c),\n",
    "                    constraints=cons, bounds=bnds,\n",
    "                    options={'disp': debugMode, 'maxiter': 10000, 'eps': eps})\n",
    "\n",
    "def readCsv(filename):\n",
    "    with open(CSV_FILENAME, 'r') as f:\n",
    "        firstLine = f.readline()\n",
    "        if firstLine.strip() != \"Probability,Number,Cost\":\n",
    "            raise Exception('First line of CSV must be \"Probability,Number,Cost\"')\n",
    "    values = np.loadtxt(filename, dtype=np.float_, delimiter=',', skiprows=1)\n",
    "    values = np.atleast_2d(values)\n",
    "    pValues = values[:,0]\n",
    "    nValues = values[:,1]\n",
    "    cValues = values[:,2]\n",
    "    return (pValues, nValues, cValues)\n",
    "\n",
    "def calculateBound(eps, debugMode):\n",
    "    (p, n, c) = readCsv(CSV_FILENAME)\n",
    "    that = n / p\n",
    "    x0 = that / 4\n",
    "    return solve(x0, that, p, n, c, eps, debugMode)\n",
    "\n",
    "def solveProblem(tries=3, debugMode=False):\n",
    "    # Try each of these epsilon values (Hessian approximation step sizes)\n",
    "    epsilons = [1e-6, 1e-5, 1e-4, 1e-3]\n",
    "    epsIndex = 0\n",
    "    optimalValues = []\n",
    "    while (len(optimalValues) == 0):\n",
    "        for i in range(tries):\n",
    "            optimOutput = calculateBound(epsilons[epsIndex], debugMode)\n",
    "            if optimOutput['status'] == 0:\n",
    "                optimalValues.append(optimOutput['fun'])\n",
    "        if epsIndex == len(epsilons):\n",
    "            raise Exception('Something went wrong while solving the problem. Please ask for assistance.')\n",
    "        epsIndex += 1\n",
    "    bestValue = np.min(optimalValues)\n",
    "    print(\"Everyone in the population would have to spend at least ${:,} dollars to have probability {} that at least one would win so much.\"\n",
    "          .format(np.int(bestValue),THRESHOLD))\n",
    "    return bestValue"
   ]
  },
  {
   "cell_type": "code",
   "execution_count": 3,
   "metadata": {
    "collapsed": false
   },
   "outputs": [
    {
     "name": "stdout",
     "output_type": "stream",
     "text": [
      "Everyone in the population would have to spend at least $809,298 dollars to have probability 1e-07 that at least one would win so much.\n"
     ]
    },
    {
     "data": {
      "text/plain": [
       "809298.98386215651"
      ]
     },
     "execution_count": 3,
     "metadata": {},
     "output_type": "execute_result"
    }
   ],
   "source": [
    "solveProblem()"
   ]
  },
  {
   "cell_type": "code",
   "execution_count": null,
   "metadata": {
    "collapsed": true
   },
   "outputs": [],
   "source": []
  }
 ],
 "metadata": {
  "kernelspec": {
   "display_name": "Python 2",
   "language": "python",
   "name": "python2"
  },
  "language_info": {
   "codemirror_mode": {
    "name": "ipython",
    "version": 2
   },
   "file_extension": ".py",
   "mimetype": "text/x-python",
   "name": "python",
   "nbconvert_exporter": "python",
   "pygments_lexer": "ipython2",
   "version": "2.7.11"
  }
 },
 "nbformat": 4,
 "nbformat_minor": 0
}
