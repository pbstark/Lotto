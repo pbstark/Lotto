{
 "cells": [
  {
   "cell_type": "markdown",
   "metadata": {},
   "source": [
    "# Plausability of Lottery Luck--Group Computations\n",
    "\n",
    "#### [Dylan D. Daniels](http://statistics.berkeley.edu/people/dylan-david-daniels) and [Philip B. Stark](www.stat.berkeley.edu/~stark), Department of Statistics, University of California, Berkeley\n",
    "#### Based on MATLAB code by [Skip Garibaldi](http://www.garibaldibros.com/)\n",
    "\n",
    "This tool appraises whether it is plausible that a list of individuals each won a set of lottery prizes honestly. \n",
    "\n",
    "User Inputs:\n",
    "\n",
    "   + A comma-separated values file (CSV) of individuals, wins, odds, and game type (scratcher or draw).\n",
    "   + An upper bound on the potential number of players (for instance, one might assume that the number of people playing the lottery isn't greater than the number of residents of the state), MAX_PLAYERS\n",
    "   + A tiny \"threshold\" probability, CHANCE_THRESHOLD\n",
    "   + The total lottery revenue during the period in question (optional), TOT_REVENUE.\n",
    "\n",
    "The code outputs, for each individual, a lower bound on the amount every potential player\n",
    "would have had to spend for _any_ of them to have a tiny chance of winning so often, where \"tiny\" is the threshold number chosen by the user.\n",
    "\n",
    "If the required spending amount is, for example, several times the median house price in the state, it may call into question whether the winner won honestly.\n",
    "\n",
    "This version can analyze data for a group of players. \n",
    "\n",
    "The code implements the mathematics described in the first link below. The third link is to a public lecture about the method, and results for reported lottery winners in Florida. \n",
    "The fourth and fifth links are news stories that relied on such calculations.\n",
    "\n",
    "See:\n",
    "+ Arratia, R., S. Garibaldi, L. Mower, and P.B. Stark, 2015. Some people have all the luck. _Mathematics Magazine_, _88_ 196–211. doi:10.4169/math.mag.88.3.196.c, Reprint: http://www.stat.berkeley.edu/~stark/Preprints/luck15.pdf http://www.jstor.org/stable/10.4169/math.mag.88.3.196\n",
    "+ Arratia, R., S. Garibaldi, L. Mower, and P.B. Stark, 2015. Some people have all the luck &hellip; or do they? _MAA Focus_, August/September, 37–38. http://www.maa.org/sites/default/files/pdf/MAAFocus/Focus_AugustSeptember_2015.pdf\n",
    "+ https://www.youtube.com/watch?v=s8cHHWNblA4\n",
    "+  Lottery odds: To win, you’d have to be a loser. Lawrence Mower, _Palm Beach Post_, 28 March 2014. http://www.mypalmbeachpost.com/news/news/lottery-odds-to-win-youd-have-to-be-a-loser/nfL57\n",
    "+ Against all Odds, Gavin Off and Adam Bell, _The Charlotte Observer_, 29 September 2016.\n",
    "http://www.charlotteobserver.com/news/special-reports/against-all-odds/\n",
    "+ How did PennLive investigate America's 'luckiest' lottery players?, Daniel Simmons-Ritchie and Jeff Kelly Lowenstein, _Penn Live_, 13 September 2017.\n",
    "http://www.pennlive.com/watchdog/2017/09/defying_the_odds_methodology.html\n",
    "+ The math behind PennLive's analysis of frequent lottery winners, Daniel Simmons-Ritchie, _Penn Live_, 13 September 2017. http://www.pennlive.com/watchdog/2017/09/defying_the_odds_math.html\n"
   ]
  },
  {
   "cell_type": "markdown",
   "metadata": {},
   "source": [
    "## Instructions:\n",
    "1. Create a CSV file with results for all gamblers. The CSV file should contain at least five columns:  \n",
    "\n",
    "> \"name\", \"game\", \"probability,\" \"wins,\" \"cost,\" and \"type\" \n",
    "\n",
    "Each row corresponds to one type of wager for one gambler. \n",
    "\n",
    "+ \"name\" is an identifier for each gambler.\n",
    "+ \"game\" is the name of the wager (it's OK to leave this blank).\n",
    "+ \"probability\" is the chance of winning that wager. \n",
    "+ \"wins\" is the number of times the gambler collected on that wager.\n",
    "+ \"cost\" is the cost per ticket or play on that wager. \n",
    "+ \"type\" is a letter identifying whether the game is a scratch-off game ('s') or involves picking numbers for a drawing ('d')\n",
    "\n",
    "If type is not specified, the software assumes the game is a scratch-off game.\n",
    "\n",
    "The computations assume that the gambler did not win any dependent bets, for instance, two bets on the same drawing.\n",
    "\n",
    "2. Put the filename of your CSV file in the box below, along with the values of MAX_PLAYERS and CHANCE_THRESHOLD.\n",
    "\n",
    "3. On the toolbar of this browser window (under the jupyter logo), click \"Cell\" --> \"Run All\". Wait a bit for your results to appear at the bottom of this page. "
   ]
  },
  {
   "cell_type": "code",
   "execution_count": 1,
   "metadata": {},
   "outputs": [],
   "source": [
    "from __future__ import print_function, division\n",
    "\n",
    "# Put the name of your CSV file here:\n",
    "# CSV_FILENAME = 'FILL_ME_IN.csv'\n",
    "# CSV_FILENAME = 'miller.csv'\n",
    "# CSV_FILENAME = 'pa-20-recompiled.csv'\n",
    "# CSV_FILENAME = 'jafaar-max-odds.csv'\n",
    "# CSV_FILENAME = 'messier-vt.csv'\n",
    "# CSV_FILENAME = 'steele-vt.csv'\n",
    "\n",
    "CSV_FILENAME = 'va-18.csv'\n",
    "COL_NAMES = ['name', 'game', 'probability', 'wins', 'cost', 'type']\n",
    "\n",
    "# set the max number of players size and overall cutoff probability\n",
    "CHANCE_THRESHOLD =  10**(-7) # one in ten million threshold\n",
    "\n",
    "# MAX_PLAYERS = 1  # if there were only one person buying tickets...\n",
    "# MAX_PLAYERS = 623657      # Vermont estimated 2017 per census bureau\n",
    "MAX_PLAYERS = 8470020   # Virginia, estimated 2017 per census bureau, https://www.census.gov/quickfacts/VA\n",
    "# MAX_PLAYERS = 5795483   # Wisconsin, estimated 2017\n",
    "# MAX_PLAYERS = 27862600  # Texas MAX_PLAYERS, 2016\n",
    "# MAX_PLAYERS = 6859819  # MAX_PLAYERS of MA in 2017 per census\n",
    "# MAX_PLAYERS = 12784000  # MAX_PLAYERS of Pennsylvania, 2016\n",
    "\n",
    "# set the revenue the lottery took in in the relevant period\n",
    "# TOT_REVENUE = 658324233 # Messier  # 400864529 # Vermont\n",
    "TOT_REVENUE = 16624690000 # Virginia lottery revenue, 2008-2017\n",
    "# TOT_REVENUE = 3517783 # instant games in MA for 2017, \n",
    "     # http://www.masslottery.com/lib/downloads/leadership/pdfs/Financial-Statement-History/June2017financialYTD.pdf\n",
    "\n"
   ]
  },
  {
   "cell_type": "code",
   "execution_count": 2,
   "metadata": {},
   "outputs": [
    {
     "name": "stdout",
     "output_type": "stream",
     "text": [
      "revenue per player 1962.7686829547038\n"
     ]
    }
   ],
   "source": [
    "print('revenue per player', TOT_REVENUE/MAX_PLAYERS)"
   ]
  },
  {
   "cell_type": "code",
   "execution_count": 3,
   "metadata": {},
   "outputs": [],
   "source": [
    "import csv\n",
    "import numpy as np\n",
    "import math\n",
    "from scipy.special import betainc\n",
    "from scipy.optimize import minimize\n",
    "\n",
    "def binTail(p, n, t): # upper tail probability for a vector of Binomial(n,p) random variables\n",
    "    return betainc(n, t - n + 1, p)\n",
    "\n",
    "def binTailln(p, n, t): # logarithm of the upper tail probability for a vector of Binomial(n,p) random variables\n",
    "    return np.log(binTail(p, n, t))\n",
    "\n",
    "def constraintFn(p, n, tot_log_mults): \n",
    "    \"\"\"\n",
    "    constraint function: probability of vector of wins must be at least CUT\n",
    "    <mults> accommodates draw and scratcher games.\n",
    "    Scratchers have mult=1; draws have mult=2.\n",
    "    \n",
    "    Parameters:\n",
    "    -----------\n",
    "    p : list of floats\n",
    "        probabilities of winning\n",
    "    n : list of ints\n",
    "        number of trials\n",
    "    tot_log_mults : double\n",
    "        log of the product of probability multipliers for draw games\n",
    "    \"\"\"\n",
    "    return lambda x: tot_log_mults + np.sum(binTailln(p, n, x)) - np.log(CUT)\n",
    "\n",
    "def objectiveFn(c):  # construct function that gives cost of vector x of bets, for cost-per-bet vector c\n",
    "    return lambda x: np.dot(x, c)\n",
    "\n",
    "def solve(x0, upperBoundVec, p, n, c, eps, debugMode, maxiter, method='SLSQP'):  \n",
    "    # invoke the constrained optimizer\n",
    "    # \n",
    "    #    x0:     starting guess\n",
    "    #    p:      vector of game probabilities\n",
    "    #    n:      vector of number of wins of each game\n",
    "    #    c:      vector of game costs\n",
    "    #    eps:    stepsize for Hessian approximation\n",
    "    #    debugMode: True for verbose output\n",
    "    #    maxiter: maximum iterations in optimizer\n",
    "    #    method: underlying minimization algorithm\n",
    "    #       \n",
    "    cons = ({'type': 'ineq', 'fun': constraintFn(p, n, tot_log_mults)})   # overall probability constraint\n",
    "    bnds = tuple((n[i], upperBoundVec[i]) for i in range(len(n)))  # must bet at least n times to win n times\n",
    "    return minimize(objectiveFn(c), x0, method=method, jac=(lambda x: c),\n",
    "                    constraints=cons, bounds=bnds,\n",
    "                    options={'disp': debugMode, 'maxiter': maxiter, 'eps': eps})\n",
    "\n",
    "def readCsv(filename):  # read the csv file of data for a player\n",
    "    with open(filename, 'rU') as f:\n",
    "        reader = csv.DictReader(f)\n",
    "        gamblers=[]; games=[]; pValues=[]; nValues=[]; cValues=[]; mValues=[]\n",
    "        for row in reader:\n",
    "            try:\n",
    "                gamblers.append(row[COL_NAMES[0]])\n",
    "                games.append(row[COL_NAMES[1]])\n",
    "                pValues.append(float(row[COL_NAMES[2]]))\n",
    "                nValues.append(float(row[COL_NAMES[3]]))\n",
    "                cValues.append(float(row[COL_NAMES[4]]))\n",
    "            except ValueError:\n",
    "                print('Skipping row:\\n', row)\n",
    "        f.seek(0)  # rewind\n",
    "        reader = csv.DictReader(f)\n",
    "        skipped = 0\n",
    "        read = 0\n",
    "        for row in reader:\n",
    "            try:\n",
    "                if row[COL_NAMES[5]] in ['d', 'draw']:\n",
    "                    mValues.append(2)\n",
    "                else:\n",
    "                    mValues.append(1)\n",
    "                read += 1    \n",
    "            except KeyError:\n",
    "                skipped += 1\n",
    "                mValues.append(1)\n",
    "        print(\"read types for {} rows\\nimputed scratcher for {} rows with missing key\".format(\n",
    "                read, skipped))\n",
    "    return np.array(gamblers), np.array(games), np.array(pValues),\\\n",
    "           np.array(nValues), np.array(cValues), np.array(mValues)\n",
    "\n",
    "def solveProblem(tries=5, debugMode=False, epsilon = 1e-7, epsFac=8, maxiter=10**4):\n",
    "    # Try up to epsFac values of the Hessian step size, related by powers of 10 (Hessian approximation step sizes)\n",
    "    optimalValues = []     # candidate optima\n",
    "    optimalProbs = []      # probabilities associated with those optima\n",
    "    optimalSolutions = []  # detailed optimization output for candidate optima\n",
    "    if debugMode:\n",
    "        print(\"n: {} \\np: {}\".format(n,p))\n",
    "    for meth in methods:   # try different optimization methods\n",
    "        for epsIndex in range(epsFac):  # try different step sizes in the Hessian\n",
    "            x0 = np.array(that/divisor) # starting guess\n",
    "            for i in range(tries):\n",
    "                while (tot_log_mults + np.sum(np.log(binTail(p, n, x0))) - np.log(CUT)) < 0:  # ensure x0 is a feasible point\n",
    "                    x0 = np.add(x0,np.ones_like(x0))  # increment every element of x\n",
    "                if (debugMode):\n",
    "                    print(\"method: {} try: {} \\nx0: {} \\nprobability {}:\".format(meth,i,x0,\\\n",
    "                                np.prod(binTail(p, n, x0))))\n",
    "                optimOutput = solve(x0, that, p, n, c, epsilon*10**epsIndex, debugMode, maxiter, method=meth)\n",
    "                if optimOutput['success']:\n",
    "                    attainedProb = np.prod(binTail(p, n, optimOutput['x']))\n",
    "                    if attainedProb <= CUT:\n",
    "                        optimalValues.append(optimOutput['fun'])\n",
    "                        optimalProbs.append(attainedProb)\n",
    "                        optimalSolutions.append(optimOutput)\n",
    "                    if debugMode:\n",
    "                        print(optimOutput)\n",
    "                        print(\"attained probability: {}\".format(attainedProb))\n",
    "                x0 = [np.random.randint(low=n[i], high=that[i]) for i in range(len(n))] # update x0 randomly\n",
    "    if len(optimalValues) == 0:\n",
    "        raise Exception('No candidate optimal solution found.')\n",
    "    bestValue = np.min(optimalValues)\n",
    "    largestProb = np.max(tuple(optimalProbs))\n",
    "    if debugMode:\n",
    "        print(\"\\nFound {} candidate minima: {}\".format(len(optimalValues), optimalValues))\n",
    "        print(\"Best value: {}\".format(bestValue))\n",
    "    print(\"{} \\t {} \\t {} \\t ${:,.0f} \\t {} \\t {}\".format(g, int(np.sum(n)), \n",
    "                                                    len(n), np.int(bestValue), \n",
    "                                                    MAX_PLAYERS*attainedProb,\n",
    "                                                    MAX_PLAYERS*bestValue/TOT_REVENUE))\n",
    "    return optimalValues, optimalProbs"
   ]
  },
  {
   "cell_type": "code",
   "execution_count": 4,
   "metadata": {},
   "outputs": [],
   "source": [
    "# parameters common to the calculations for all players\n",
    "\n",
    "np.random.RandomState(seed=957334456) # setting seed explicitly, for reproducibility\n",
    "\n",
    "debugMode = False  # verbose output if True; set to False for less output\n",
    "\n",
    "CUT = CHANCE_THRESHOLD / MAX_PLAYERS # Bonferroni cutoff probability\n",
    "\n",
    "divisor = 5 # initial value for optimizer is expected number divided by divisor (modified to ensure feasibility)\n",
    "\n",
    "tries = 8 # number of times to run the optimization code from different starting points\n",
    "\n",
    "methods = ['SLSQP','COBYLA']  # COBYLA will ignore the individual bounds, but should honor the probability constraint"
   ]
  },
  {
   "cell_type": "code",
   "execution_count": 5,
   "metadata": {},
   "outputs": [
    {
     "name": "stdout",
     "output_type": "stream",
     "text": [
      "read types for 0 rows\n",
      "imputed scratcher for 726 rows with missing key\n"
     ]
    },
    {
     "name": "stderr",
     "output_type": "stream",
     "text": [
      "/Users/stark/anaconda3/lib/python3.7/site-packages/ipykernel_launcher.py:52: DeprecationWarning: 'U' mode is deprecated\n"
     ]
    }
   ],
   "source": [
    "gg, mm, pp, nn, cc, mults = readCsv(CSV_FILENAME)  # read the data for all players"
   ]
  },
  {
   "cell_type": "code",
   "execution_count": 6,
   "metadata": {},
   "outputs": [
    {
     "name": "stdout",
     "output_type": "stream",
     "text": [
      "Found 40 gamblers:\n",
      " ['Albert Brown Waverly, Va' 'Alemayehu Yonas Alexandria, Va'\n",
      " 'Arthur Mowbray Chesapeake, Va'\n",
      " 'Carlin Walton Nash Jr. Providence Forge, Va'\n",
      " 'Charles Hargrove Woodbridge, Va' 'Crystal Smith Winchester, Va'\n",
      " 'Donald Jackson Hampton, Va' 'Eddie Bellett Jr Winchester, Va'\n",
      " 'Ellen Davis Petersburg, Va' 'Eugene Vernon Hunt Chesapeake, Va'\n",
      " 'Franklin Myers Mechanicsville, Va' 'Galen Tang Centreville, Va'\n",
      " 'Gloridine Lambert Dewitt, Va' 'Gregory Minnick Ruther Glen, Va'\n",
      " 'Henry Hart Spotsylvania, Va' 'James Butts Chesapeake, Va'\n",
      " 'James King, Jr. Dry Fork, Va' 'Jane Watts Chesapeake, Va'\n",
      " 'John Matthews Hopewell, Va' 'Kawaljit Singh Fredericksburg, Va'\n",
      " 'Keith Moore South Hill, Va' 'Kenneth Good Glen Allen, Va'\n",
      " 'Kimberly Beamon Suffolk, Va' 'Lana Neibert Suffolk, Va'\n",
      " 'Md Hossain Henrico, Va' 'Orlando Harrison Emporia, Va'\n",
      " 'Philip Redfearn Alexandria, Va' 'Reginald Long Roanoke, Va'\n",
      " 'Rico Walker Salem, Va' 'Rolando Toledo Nave Va Beach, Va'\n",
      " 'Ronald Lee Roanoke, Va' 'Sabrena Burrell Kinsale, Va'\n",
      " 'Sanjues Sampson Norfolk, Va' 'Sara Kesterson Staunton, Va'\n",
      " 'Shamekia Wyatt South Boston, Va' 'Shirley Williams Richmond, Va'\n",
      " 'Stefani Dawson-flowers South Chesterfield, Va'\n",
      " 'Steven Granger Henderson, Nc' 'William Hinton Virginia Beach, Va'\n",
      " 'Zachary Ryan Nozar Suffolk, Va']\n",
      "Assumptions:\n",
      " If 8,470,020 people bet the amount in column 4, chance would be no larger than 1e-07 that any of them would win as much as this person\n",
      "Name\t wins \t games \t minimum spend \t attained probability \t multiple of revenue\n",
      "product of draw adjustments 1\n"
     ]
    },
    {
     "name": "stderr",
     "output_type": "stream",
     "text": [
      "/Users/stark/anaconda3/lib/python3.7/site-packages/scipy/optimize/_minimize.py:501: RuntimeWarning: Method COBYLA does not use gradient information (jac).\n",
      "  RuntimeWarning)\n",
      "/Users/stark/anaconda3/lib/python3.7/site-packages/scipy/optimize/_minimize.py:523: RuntimeWarning: Method COBYLA cannot handle bounds.\n",
      "  RuntimeWarning)\n",
      "/Users/stark/anaconda3/lib/python3.7/site-packages/ipykernel_launcher.py:49: OptimizeWarning: Unknown solver options: eps\n"
     ]
    },
    {
     "name": "stdout",
     "output_type": "stream",
     "text": [
      "Albert Brown Waverly, Va \t 90 \t 21 \t $1,325,743 \t 1.000000000333255e-07 \t 675.4454150425976\n",
      "product of draw adjustments 1\n",
      "Alemayehu Yonas Alexandria, Va \t 79 \t 27 \t $3,884,304 \t 9.999999999374798e-08 \t 1978.9927422248272\n",
      "product of draw adjustments 1\n",
      "Arthur Mowbray Chesapeake, Va \t 73 \t 20 \t $3,692,753 \t 9.999999872514452e-08 \t 1881.4003896746033\n",
      "product of draw adjustments 1\n",
      "Carlin Walton Nash Jr. Providence Forge, Va \t 72 \t 39 \t $6,925,037 \t 9.999999978074069e-08 \t 3528.1985544932295\n",
      "product of draw adjustments 1\n",
      "Charles Hargrove Woodbridge, Va \t 63 \t 11 \t $557,165 \t 1.0000000002312115e-07 \t 283.86730395252846\n",
      "product of draw adjustments 1\n",
      "Crystal Smith Winchester, Va \t 72 \t 17 \t $1,874,306 \t 9.999998855488775e-08 \t 954.9301084642483\n",
      "product of draw adjustments 1\n",
      "Donald Jackson Hampton, Va \t 98 \t 35 \t $3,936,827 \t 9.999999957083597e-08 \t 2005.7520485410573\n",
      "product of draw adjustments 1\n",
      "Eddie Bellett Jr Winchester, Va \t 32 \t 15 \t $481,379 \t 9.9999999871583e-08 \t 245.2553513373592\n",
      "product of draw adjustments 1\n",
      "Ellen Davis Petersburg, Va \t 36 \t 8 \t $203,993 \t 1.0000000000038562e-07 \t 103.93131800720127\n",
      "product of draw adjustments 1\n",
      "Eugene Vernon Hunt Chesapeake, Va \t 48 \t 26 \t $1,714,724 \t 1.0000000000117768e-07 \t 873.6253632838135\n",
      "product of draw adjustments 1\n",
      "Franklin Myers Mechanicsville, Va \t 58 \t 15 \t $532,727 \t 9.99999989898767e-08 \t 271.41632903817185\n",
      "product of draw adjustments 1\n",
      "Galen Tang Centreville, Va \t 22 \t 4 \t $27,360 \t 9.99999999964762e-08 \t 13.939573483747594\n",
      "product of draw adjustments 1\n",
      "Gloridine Lambert Dewitt, Va \t 60 \t 8 \t $285,709 \t 1.0000000003694806e-07 \t 145.56468613285446\n",
      "product of draw adjustments 1\n",
      "Gregory Minnick Ruther Glen, Va \t 64 \t 14 \t $659,255 \t 9.999999967375377e-08 \t 335.8804509489411\n",
      "product of draw adjustments 1\n",
      "Henry Hart Spotsylvania, Va \t 87 \t 31 \t $2,352,846 \t 1.0000000001009619e-07 \t 1198.7387209910999\n",
      "product of draw adjustments 1\n",
      "James Butts Chesapeake, Va \t 53 \t 7 \t $144,826 \t 9.999998921695408e-08 \t 73.78668209267725\n",
      "product of draw adjustments 1\n",
      "James King, Jr. Dry Fork, Va \t 45 \t 9 \t $489,064 \t 1.0000000000548977e-07 \t 249.17097845877194\n",
      "product of draw adjustments 1\n",
      "Jane Watts Chesapeake, Va \t 65 \t 27 \t $3,047,313 \t 9.999999967229654e-08 \t 1552.5586430678802\n",
      "product of draw adjustments 1\n",
      "John Matthews Hopewell, Va \t 124 \t 37 \t $5,608,030 \t 9.999999949867042e-08 \t 2857.203808701833\n",
      "product of draw adjustments 1\n",
      "Kawaljit Singh Fredericksburg, Va \t 54 \t 6 \t $180,202 \t 9.999999907405925e-08 \t 91.8103795022984\n",
      "product of draw adjustments 1\n",
      "Keith Moore South Hill, Va \t 71 \t 30 \t $7,939,604 \t 9.99999995309572e-08 \t 4045.104466637559\n",
      "product of draw adjustments 1\n",
      "Kenneth Good Glen Allen, Va \t 61 \t 17 \t $519,914 \t 1.0000000002905635e-07 \t 264.8883314122004\n",
      "product of draw adjustments 1\n",
      "Kimberly Beamon Suffolk, Va \t 55 \t 6 \t $194,578 \t 9.999999999330626e-08 \t 99.1348029451172\n",
      "product of draw adjustments 1\n",
      "Lana Neibert Suffolk, Va \t 80 \t 31 \t $7,092,897 \t 9.999999990809744e-08 \t 3613.720368708948\n",
      "product of draw adjustments 1\n",
      "Md Hossain Henrico, Va \t 55 \t 25 \t $2,003,671 \t 1.0000000000028999e-07 \t 1020.8391626652391\n",
      "product of draw adjustments 1\n",
      "Orlando Harrison Emporia, Va \t 66 \t 20 \t $732,435 \t 9.999999996844067e-08 \t 373.1643652456388\n",
      "product of draw adjustments 1\n",
      "Philip Redfearn Alexandria, Va \t 46 \t 7 \t $108,330 \t 1.0000000001950204e-07 \t 55.192775548705406\n",
      "product of draw adjustments 1\n",
      "Reginald Long Roanoke, Va \t 83 \t 36 \t $3,294,447 \t 9.999999988395509e-08 \t 1678.4695267465086\n",
      "product of draw adjustments 1\n",
      "Rico Walker Salem, Va \t 71 \t 12 \t $388,598 \t 1.000000000089997e-07 \t 197.9847013101487\n",
      "product of draw adjustments 1\n",
      "Rolando Toledo Nave Va Beach, Va \t 16 \t 5 \t $18,293 \t 9.999999996986243e-08 \t 9.32010432950663\n",
      "product of draw adjustments 1\n",
      "Ronald Lee Roanoke, Va \t 73 \t 13 \t $2,539,593 \t 9.999999999622339e-08 \t 1293.883460481897\n",
      "product of draw adjustments 1\n",
      "Sabrena Burrell Kinsale, Va \t 63 \t 10 \t $261,389 \t 9.999997632506791e-08 \t 133.1738836546147\n",
      "product of draw adjustments 1\n",
      "Sanjues Sampson Norfolk, Va \t 83 \t 5 \t $234,387 \t 1.0000000002766457e-07 \t 119.41693245262437\n",
      "product of draw adjustments 1\n",
      "Sara Kesterson Staunton, Va \t 67 \t 26 \t $5,256,976 \t 1.0000000001998613e-07 \t 2678.3474141537054\n",
      "product of draw adjustments 1\n",
      "Shamekia Wyatt South Boston, Va \t 77 \t 25 \t $2,484,826 \t 9.999999996359641e-08 \t 1265.9801795741294\n",
      "product of draw adjustments 1\n",
      "Shirley Williams Richmond, Va \t 56 \t 6 \t $111,911 \t 1.000000000244465e-07 \t 57.016913467654916\n",
      "product of draw adjustments 1\n",
      "Stefani Dawson-flowers South Chesterfield, Va \t 112 \t 45 \t $7,983,386 \t 1.0000000000024954e-07 \t 4067.4106219366276\n",
      "product of draw adjustments 1\n",
      "Steven Granger Henderson, Nc \t 10 \t 2 \t $2,150 \t 9.999999999963933e-08 \t 1.0958625561115691\n",
      "product of draw adjustments 1\n",
      "William Hinton Virginia Beach, Va \t 54 \t 6 \t $152,588 \t 1.0000000001183228e-07 \t 77.74158968059815\n",
      "product of draw adjustments 1\n",
      "Zachary Ryan Nozar Suffolk, Va \t 63 \t 22 \t $6,741,672 \t 9.99999992521263e-08 \t 3434.7769080261814\n"
     ]
    }
   ],
   "source": [
    "print(\"Found\", len(np.unique(gg)), \"gamblers:\\n\", np.unique(gg))\n",
    "print((\"Assumptions:\\n If {:,} people bet the amount in column 4, \" +\\\n",
    "      \"chance would be no larger than {} that any of them would win \" + \\\n",
    "      \"as much as this person\").format(MAX_PLAYERS, CHANCE_THRESHOLD))\n",
    "print(\"Name\\t wins \\t games \\t minimum spend \\t attained probability \\t multiple of revenue\")\n",
    "\n",
    "for g in np.unique(gg):\n",
    "    gambler = gg==g\n",
    "    p = pp[gambler]\n",
    "    n = nn[gambler]\n",
    "    c = cc[gambler]\n",
    "    m = mults[gambler]\n",
    "    all_mults = np.prod(m)  # multipliers for draw v scratcher, times multiplicity\n",
    "    tot_log_mults = np.log(all_mults)\n",
    "    that = n/p  # expected number of wagers on each bet required to win that bet n times\n",
    "    print('product of draw adjustments {}'.format(all_mults))\n",
    "    if debugMode:\n",
    "        print(\"initial t_hat: {} \\ninitialprobability: {}\".format(that,all_mults*np.prod(binTail(p, n, that))))\n",
    "\n",
    "\n",
    "# 'that' is used as an upper bound; ensure that it's compatible with the probability constraint\n",
    "    while all_mults*np.prod(binTail(p, n, that)) < CUT:\n",
    "        that = 2*that\n",
    "    \n",
    "    if debugMode:\n",
    "        print (\"adjusted t_hat: {} \\nadjusted probability: {}\".format(that,all_mults*np.prod(binTail(p, n, that))))\n",
    "\n",
    "    optimalValues, optimalProbs = solveProblem(tries = tries, debugMode=debugMode, epsilon = 1e-7, epsFac=8, maxiter=10**4)"
   ]
  },
  {
   "cell_type": "code",
   "execution_count": 8,
   "metadata": {},
   "outputs": [
    {
     "name": "stdout",
     "output_type": "stream",
     "text": [
      "Loading extensions from ~/.ipython/extensions is deprecated. We recommend managing extensions like any other Python packages, in site-packages.\n"
     ]
    },
    {
     "name": "stderr",
     "output_type": "stream",
     "text": [
      "/Users/stark/anaconda3/lib/python3.7/site-packages/IPython/core/formatters.py:839: FormatterWarning: JSON expects JSONable list/dict containers, not JSON strings\n",
      "  FormatterWarning)\n"
     ]
    },
    {
     "data": {
      "application/json": {
       "Software versions": [
        {
         "module": "Python",
         "version": "3.7.3 64bit [Clang 4.0.1 (tags/RELEASE_401/final)]"
        },
        {
         "module": "IPython",
         "version": "7.6.1"
        },
        {
         "module": "OS",
         "version": "Darwin 19.3.0 x86_64 i386 64bit"
        },
        {
         "module": "scipy",
         "version": "1.2.1"
        },
        {
         "module": "numpy",
         "version": "1.16.3"
        },
        {
         "module": "csv",
         "version": "1.0"
        },
        {
         "module": "pandas",
         "version": "0.24.2"
        },
        {
         "module": "matplotlib",
         "version": "2.0.0b3"
        },
        {
         "module": "notebook",
         "version": "6.0.0"
        }
       ]
      },
      "text/html": [
       "<table><tr><th>Software</th><th>Version</th></tr><tr><td>Python</td><td>3.7.3 64bit [Clang 4.0.1 (tags/RELEASE_401/final)]</td></tr><tr><td>IPython</td><td>7.6.1</td></tr><tr><td>OS</td><td>Darwin 19.3.0 x86_64 i386 64bit</td></tr><tr><td>scipy</td><td>1.2.1</td></tr><tr><td>numpy</td><td>1.16.3</td></tr><tr><td>csv</td><td>1.0</td></tr><tr><td>pandas</td><td>0.24.2</td></tr><tr><td>matplotlib</td><td>2.0.0b3</td></tr><tr><td>notebook</td><td>6.0.0</td></tr><tr><td colspan='2'>Wed Jan 08 05:07:47 2020 PST</td></tr></table>"
      ],
      "text/latex": [
       "\\begin{tabular}{|l|l|}\\hline\n",
       "{\\bf Software} & {\\bf Version} \\\\ \\hline\\hline\n",
       "Python & 3.7.3 64bit [Clang 4.0.1 (tags/RELEASE\\letterunderscore{}401/final)] \\\\ \\hline\n",
       "IPython & 7.6.1 \\\\ \\hline\n",
       "OS & Darwin 19.3.0 x86\\letterunderscore{}64 i386 64bit \\\\ \\hline\n",
       "scipy & 1.2.1 \\\\ \\hline\n",
       "numpy & 1.16.3 \\\\ \\hline\n",
       "csv & 1.0 \\\\ \\hline\n",
       "pandas & 0.24.2 \\\\ \\hline\n",
       "matplotlib & 2.0.0b3 \\\\ \\hline\n",
       "notebook & 6.0.0 \\\\ \\hline\n",
       "\\hline \\multicolumn{2}{|l|}{Wed Jan 08 05:07:47 2020 PST} \\\\ \\hline\n",
       "\\end{tabular}\n"
      ],
      "text/plain": [
       "Software versions\n",
       "Python 3.7.3 64bit [Clang 4.0.1 (tags/RELEASE_401/final)]\n",
       "IPython 7.6.1\n",
       "OS Darwin 19.3.0 x86_64 i386 64bit\n",
       "scipy 1.2.1\n",
       "numpy 1.16.3\n",
       "csv 1.0\n",
       "pandas 0.24.2\n",
       "matplotlib 2.0.0b3\n",
       "notebook 6.0.0\n",
       "Wed Jan 08 05:07:47 2020 PST"
      ]
     },
     "execution_count": 8,
     "metadata": {},
     "output_type": "execute_result"
    }
   ],
   "source": [
    "# version information\n",
    "%load_ext version_information\n",
    "%version_information scipy, numpy, csv, pandas, matplotlib, notebook"
   ]
  },
  {
   "cell_type": "code",
   "execution_count": null,
   "metadata": {},
   "outputs": [],
   "source": []
  },
  {
   "cell_type": "code",
   "execution_count": null,
   "metadata": {},
   "outputs": [],
   "source": []
  }
 ],
 "metadata": {
  "anaconda-cloud": {},
  "kernelspec": {
   "display_name": "Python 3",
   "language": "python",
   "name": "python3"
  },
  "language_info": {
   "codemirror_mode": {
    "name": "ipython",
    "version": 3
   },
   "file_extension": ".py",
   "mimetype": "text/x-python",
   "name": "python",
   "nbconvert_exporter": "python",
   "pygments_lexer": "ipython3",
   "version": "3.7.3"
  }
 },
 "nbformat": 4,
 "nbformat_minor": 1
}
