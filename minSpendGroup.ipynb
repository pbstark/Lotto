{
 "cells": [
  {
   "cell_type": "markdown",
   "metadata": {},
   "source": [
    "# Plausability of Lottery Luck--Group Computations\n",
    "\n",
    "#### [Dylan D. Daniels](http://statistics.berkeley.edu/people/dylan-david-daniels) and [Philip B. Stark](www.stat.berkeley.edu/~stark), Department of Statistics, University of California, Berkeley\n",
    "#### Based on MATLAB code by [Skip Garibaldi](http://www.garibaldibros.com/)\n",
    "\n",
    "This tool appraises whether it is plausible that a list of individuals each won a set of lottery prizes honestly. \n",
    "\n",
    "User Inputs:\n",
    "\n",
    "   + A comma-separated values file (CSV) of individuals, wins, and odds.\n",
    "   + An upper bound on the potential number of players (for instance, one might assume that the number of people playing the lottery isn't greater than the number of residents of the state), MAX_PLAYERS\n",
    "   + A tiny \"threshold\" probability, CHANCE_THRESHOLD\n",
    "   + The total lottery revenue during the period in question (optional), TOT_REVENUE.\n",
    "\n",
    "The code outputs, for each individual, a lower bound on the amount every potential player\n",
    "would have had to spend for _any_ of them to have a tiny chance of winning so often, where \"tiny\" is the threshold number chosen by the user.\n",
    "\n",
    "If the required spending amount is, for example, several times the median house price in the state, it may call into question whether the winner won honestly.\n",
    "\n",
    "This version can analyze data for a group of players. \n",
    "\n",
    "The code implements the mathematics described in the first link below. The third link is to a public lecture about the method, and results for reported lottery winners in Florida. \n",
    "The fourth and fifth links are news stories that relied on such calculations.\n",
    "\n",
    "See:\n",
    "+ Arratia, R., S. Garibaldi, L. Mower, and P.B. Stark, 2015. Some people have all the luck. _Mathematics Magazine_, _88_ 196–211. doi:10.4169/math.mag.88.3.196.c, Reprint: http://www.stat.berkeley.edu/~stark/Preprints/luck15.pdf http://www.jstor.org/stable/10.4169/math.mag.88.3.196\n",
    "+ Arratia, R., S. Garibaldi, L. Mower, and P.B. Stark, 2015. Some people have all the luck &hellip; or do they? _MAA Focus_, August/September, 37–38. http://www.maa.org/sites/default/files/pdf/MAAFocus/Focus_AugustSeptember_2015.pdf\n",
    "+ https://www.youtube.com/watch?v=s8cHHWNblA4\n",
    "+  Lottery odds: To win, you’d have to be a loser. Lawrence Mower, _Palm Beach Post_, 28 March 2014. http://www.mypalmbeachpost.com/news/news/lottery-odds-to-win-youd-have-to-be-a-loser/nfL57\n",
    "+ Against all Odds, Gavin Off and Adam Bell, _The Charlotte Observer_, 29 September 2016.\n",
    "http://www.charlotteobserver.com/news/special-reports/against-all-odds/\n",
    "+ How did PennLive investigate America's 'luckiest' lottery players?, Daniel Simmons-Ritchie and Jeff Kelly Lowenstein, _Penn Live_, 13 September 2017.\n",
    "http://www.pennlive.com/watchdog/2017/09/defying_the_odds_methodology.html\n",
    "+ The math behind PennLive's analysis of frequent lottery winners, Daniel Simmons-Ritchie, _Penn Live_, 13 September 2017. http://www.pennlive.com/watchdog/2017/09/defying_the_odds_math.html\n"
   ]
  },
  {
   "cell_type": "markdown",
   "metadata": {},
   "source": [
    "## Instructions:\n",
    "1. Create a CSV file with results for all gamblers. The CSV file should contain five columns:  \n",
    "\n",
    "> \"name\", \"game\", \"probability,\" \"wins,\" and \"cost\" \n",
    "\n",
    "Each row corresponds to one type of wager for one gambler. \n",
    "\n",
    "+ \"name\" is an identifier for each gambler.\n",
    "+ \"game\" is the name of the wager (it's OK to leave this blank).\n",
    "+ \"probability\" is the chance of winning that wager. \n",
    "+ \"wins\" is the number of times the gambler collected on that wager.\n",
    "+ \"cost\" is the cost per ticket or play on that wager. \n",
    "\n",
    "The computations assume that the gambler did not win any dependent bets, for instance, two bets on the same drawing.\n",
    "\n",
    "2. Put the filename of your CSV file in the box below, along with the values of MAX_PLAYERS and CHANCE_THRESHOLD.\n",
    "\n",
    "3. On the toolbar of this browser window (under the jupyter logo), click \"Cell\" --> \"Run All\". Wait a bit for your results to appear at the bottom of this page. "
   ]
  },
  {
   "cell_type": "code",
   "execution_count": 1,
   "metadata": {},
   "outputs": [],
   "source": [
    "from __future__ import print_function, division\n",
    "\n",
    "# Put the name of your CSV file here:\n",
    "# CSV_FILENAME = 'FILL_ME_IN.csv'\n",
    "# CSV_FILENAME = 'miller.csv'\n",
    "# CSV_FILENAME = 'pa-20-recompiled.csv'\n",
    "\n",
    "CSV_FILENAME = 'kittell-vt.csv'\n",
    "\n",
    "COL_NAMES = ['name', 'game', 'probability', 'wins', 'cost']\n",
    "\n",
    "# set the max number of players size and overall cutoff probability\n",
    "CHANCE_THRESHOLD =  10**(-7) # one in ten million threshold\n",
    "\n",
    "MAX_PLAYERS = 623657      # Vermont estimated 2017 per census bureau\n",
    "\n",
    "# MAX_PLAYERS = 8470020   # Virginia, estimated 2017 per census bureau, https://www.census.gov/quickfacts/VA\n",
    "# MAX_PLAYERS = 5795483   # Wisconsin, estimated 2017\n",
    "# MAX_PLAYERS = 27862600  # Texas MAX_PLAYERS, 2016\n",
    "# MAX_PLAYERS = 6794000   # MAX_PLAYERS of MA in 2015\n",
    "# MAX_PLAYERS = 12784000  # MAX_PLAYERS of Pennsylvania, 2016\n",
    "\n",
    "# set the revenue the lottery took in in the relevant period\n",
    "TOT_REVENUE = 658324233 # Messier  # 400864529 # Vermont\n",
    "# TOT_REVENUE = 16624690000 # Virginia lottery revenue, 2008-2017\n",
    "\n"
   ]
  },
  {
   "cell_type": "code",
   "execution_count": 2,
   "metadata": {},
   "outputs": [
    {
     "name": "stdout",
     "output_type": "stream",
     "text": [
      "revenue per player 1055.5870181846751\n"
     ]
    }
   ],
   "source": [
    "print('revenue per player', TOT_REVENUE/MAX_PLAYERS)"
   ]
  },
  {
   "cell_type": "code",
   "execution_count": 3,
   "metadata": {},
   "outputs": [],
   "source": [
    "import csv\n",
    "import numpy as np\n",
    "from scipy.special import betainc\n",
    "from scipy.optimize import minimize\n",
    "\n",
    "def binTail(p, n, t): # upper tail probability for a vector of Binomial(n,p) random variables\n",
    "    return betainc(n, t - n + 1, p)\n",
    "\n",
    "def binTailln(p, n, t): # logarithm of the upper tail probability for a vector of Binomial(n,p) random variables\n",
    "    return np.log(binTail(p, n, t))\n",
    "\n",
    "def constraintFn(p, n): # constraint function: probability of vector of wins must be at least CUT\n",
    "    return lambda x: np.sum(binTailln(p, n, x)) - np.log(CUT)\n",
    "\n",
    "def objectiveFn(c):  # construct function that gives cost of vector x of bets, for cost-per-bet vector c\n",
    "    return lambda x: np.dot(x, c)\n",
    "\n",
    "def solve(x0, upperBoundVec, p, n, c, eps, debugMode, maxiter, method='SLSQP'):  \n",
    "    # invoke the constrained optimizer\n",
    "    # \n",
    "    #    x0:     starting guess\n",
    "    #    p:      vector of game probabilities\n",
    "    #    n:      vector of number of wins of each game\n",
    "    #    c:      vector of game costs\n",
    "    #    eps:    stepsize for Hessian approximation\n",
    "    #    debugMode: True for verbose output\n",
    "    #    maxiter: maximum iterations in optimizer\n",
    "    #    method: underlying minimization algorithm\n",
    "    #       \n",
    "    cons = ({'type': 'ineq', 'fun': constraintFn(p, n)})   # overall probability constraint\n",
    "    bnds = tuple((n[i], upperBoundVec[i]) for i in range(len(n)))  # must bet at least n times to win n times\n",
    "    return minimize(objectiveFn(c), x0, method=method, jac=(lambda x: c),\n",
    "                    constraints=cons, bounds=bnds,\n",
    "                    options={'disp': debugMode, 'maxiter': maxiter, 'eps': eps})\n",
    "\n",
    "def readCsv(filename):  # read the csv file of data for a player\n",
    "    with open(filename, 'rU') as f:\n",
    "        reader = csv.DictReader(f)\n",
    "        gamblers = []; games = []; pValues = []; nValues = []; cValues = []\n",
    "        for row in reader:\n",
    "            try:\n",
    "                gamblers.append(row[COL_NAMES[0]])\n",
    "                games.append(row[COL_NAMES[1]])\n",
    "                pValues.append(float(row[COL_NAMES[2]]))\n",
    "                nValues.append(float(row[COL_NAMES[3]]))\n",
    "                cValues.append(float(row[COL_NAMES[4]]))\n",
    "            except ValueError:\n",
    "                print('Skipping row:\\n', row)\n",
    "    return(np.array(gamblers), np.array(games), np.array(pValues),\\\n",
    "           np.array(nValues), np.array(cValues))\n",
    "\n",
    "def solveProblem(tries=5, debugMode=False, epsilon = 1e-7, epsFac=8, maxiter=10**4):\n",
    "    # Try up to epsFac values of the Hessian step size, related by powers of 10 (Hessian approximation step sizes)\n",
    "    optimalValues = []     # candidate optima\n",
    "    optimalProbs = []      # probabilities associated with those optima\n",
    "    optimalSolutions = []  # detailed optimization output for candidate optima\n",
    "    if debugMode:\n",
    "        print(\"n: {} \\np: {}\".format(n,p))\n",
    "    for meth in methods:   # try different optimization methods\n",
    "        for epsIndex in range(epsFac):  # try different step sizes in the Hessian\n",
    "            x0 = np.array(that/divisor) # starting guess\n",
    "            for i in range(tries):\n",
    "                while (np.sum(np.log(binTail(p, n, x0))) - np.log(CUT)) < 0:  # ensure x0 is a feasible point\n",
    "                    x0 = np.add(x0,np.ones_like(x0))  # increment every element of x\n",
    "                if (debugMode):\n",
    "                    print(\"method: {} try: {} \\nx0: {} \\nprobability {}:\".format(meth,i,x0,\\\n",
    "                                np.prod(binTail(p, n, x0))))\n",
    "                optimOutput = solve(x0, that, p, n, c, epsilon*10**epsIndex, debugMode, maxiter, method=meth)\n",
    "                if optimOutput['success']:\n",
    "                    attainedProb = np.prod(binTail(p, n, optimOutput['x']))\n",
    "                    if attainedProb <= CUT:\n",
    "                        optimalValues.append(optimOutput['fun'])\n",
    "                        optimalProbs.append(attainedProb)\n",
    "                        optimalSolutions.append(optimOutput)\n",
    "                    if debugMode:\n",
    "                        print(optimOutput)\n",
    "                        print(\"attained probability: {}\".format(attainedProb))\n",
    "                x0 = [np.random.randint(low=n[i], high=that[i]) for i in range(len(n))] # update x0 randomly\n",
    "    if len(optimalValues) == 0:\n",
    "        raise Exception('No candidate optimal solution found.')\n",
    "    bestValue = np.min(optimalValues)\n",
    "    largestProb = np.max(tuple(optimalProbs))\n",
    "    if debugMode:\n",
    "        print(\"\\nFound {} candidate minima: {}\".format(len(optimalValues), optimalValues))\n",
    "        print(\"Best value: {}\".format(bestValue))\n",
    "    print(\"{} \\t {} \\t {} \\t ${:,.0f} \\t {} \\t {}\".format(g, int(np.sum(n)), \n",
    "                                                    len(n), np.int(bestValue), \n",
    "                                                    MAX_PLAYERS*attainedProb,\n",
    "                                                    MAX_PLAYERS*bestValue/TOT_REVENUE))\n",
    "    return optimalValues, optimalProbs"
   ]
  },
  {
   "cell_type": "code",
   "execution_count": 4,
   "metadata": {},
   "outputs": [],
   "source": [
    "# parameters common to the calculations for all players\n",
    "\n",
    "np.random.RandomState(seed=957334456) # setting seed explicitly, for reproducibility\n",
    "\n",
    "debugMode = False  # verbose output if True; set to False for less output\n",
    "\n",
    "CUT = CHANCE_THRESHOLD / MAX_PLAYERS # Bonferroni cutoff probability\n",
    "\n",
    "divisor = 5 # initial value for optimizer is expected number divided by divisor (modified to ensure feasibility)\n",
    "\n",
    "tries = 7 # number of times to run the optimization code from different starting points\n",
    "\n",
    "methods = ['SLSQP','COBYLA']  # COBYLA will ignore the individual bounds, but should honor the probability constraint"
   ]
  },
  {
   "cell_type": "code",
   "execution_count": 5,
   "metadata": {},
   "outputs": [
    {
     "name": "stderr",
     "output_type": "stream",
     "text": [
      "/anaconda/lib/python3.6/site-packages/ipykernel_launcher.py:37: DeprecationWarning: 'U' mode is deprecated\n"
     ]
    },
    {
     "name": "stdout",
     "output_type": "stream",
     "text": [
      "Found 1 gamblers:\n",
      " ['KITTELL, MARK']\n",
      "Assumptions:\n",
      " If 623,657 people bet the amount in column 4, chance would be no larger than 1e-07 that any of them would win as much as this person\n",
      "Name\t wins \t games \t minimum spend \t attained probability \t multiple of revenue\n"
     ]
    },
    {
     "name": "stderr",
     "output_type": "stream",
     "text": [
      "/anaconda/lib/python3.6/site-packages/scipy/optimize/_minimize.py:415: RuntimeWarning: Method COBYLA does not use gradient information (jac).\n",
      "  RuntimeWarning)\n",
      "/anaconda/lib/python3.6/site-packages/scipy/optimize/_minimize.py:436: RuntimeWarning: Method COBYLA cannot handle bounds.\n",
      "  RuntimeWarning)\n",
      "/anaconda/lib/python3.6/site-packages/ipykernel_launcher.py:34: OptimizeWarning: Unknown solver options: eps\n"
     ]
    },
    {
     "name": "stdout",
     "output_type": "stream",
     "text": [
      "KITTELL, MARK \t 10 \t 9 \t $17,835 \t 9.999999066089716e-08 \t 16.89657693864035\n"
     ]
    }
   ],
   "source": [
    "(gg, mm, pp, nn, cc) = readCsv(CSV_FILENAME)  # read the data for all players\n",
    "\n",
    "print(\"Found\", len(np.unique(gg)), \"gamblers:\\n\", np.unique(gg))\n",
    "print((\"Assumptions:\\n If {:,} people bet the amount in column 4, \" +\\\n",
    "      \"chance would be no larger than {} that any of them would win \" + \\\n",
    "      \"as much as this person\").format(MAX_PLAYERS, CHANCE_THRESHOLD))\n",
    "print(\"Name\\t wins \\t games \\t minimum spend \\t attained probability \\t multiple of revenue\")\n",
    "\n",
    "for g in np.unique(gg):\n",
    "    gambler = gg==g\n",
    "    p = pp[gambler]\n",
    "    n = nn[gambler]\n",
    "    c = cc[gambler]\n",
    "    that = n/p  # expected number of wagers on each bet required to win that bet n times\n",
    "    if debugMode:\n",
    "        print (\"initial t_hat: {} \\ninitialprobability: {}\".format(that,np.prod(binTail(p, n, that))))\n",
    "\n",
    "# 'that' is used as an upper bound; ensure that it's compatible with the probability constraint\n",
    "    while np.prod(binTail(p, n, that)) < CUT:\n",
    "        that = 2*that\n",
    "    \n",
    "    if debugMode:\n",
    "        print (\"adjusted t_hat: {} \\nadjusted probability: {}\".format(that,np.prod(binTail(p, n, that))))\n",
    "\n",
    "    optimalValues, optimalProbs = solveProblem(tries = tries, debugMode=debugMode, epsilon = 1e-7, epsFac=8, maxiter=10**4)"
   ]
  },
  {
   "cell_type": "code",
   "execution_count": 6,
   "metadata": {},
   "outputs": [
    {
     "name": "stdout",
     "output_type": "stream",
     "text": [
      "Loading extensions from ~/.ipython/extensions is deprecated. We recommend managing extensions like any other Python packages, in site-packages.\n"
     ]
    },
    {
     "name": "stderr",
     "output_type": "stream",
     "text": [
      "/anaconda/lib/python3.6/site-packages/IPython/core/formatters.py:839: FormatterWarning: JSON expects JSONable list/dict containers, not JSON strings\n",
      "  FormatterWarning)\n"
     ]
    },
    {
     "data": {
      "application/json": {
       "Software versions": [
        {
         "module": "Python",
         "version": "3.6.1 64bit [GCC 4.2.1 Compatible Apple LLVM 6.0 (clang-600.0.57)]"
        },
        {
         "module": "IPython",
         "version": "6.2.1"
        },
        {
         "module": "OS",
         "version": "Darwin 17.6.0 x86_64 i386 64bit"
        },
        {
         "module": "scipy",
         "version": "1.0.0"
        },
        {
         "module": "numpy",
         "version": "1.12.1"
        },
        {
         "module": "csv",
         "version": "1.0"
        },
        {
         "module": "pandas",
         "version": "0.22.0"
        },
        {
         "module": "matplotlib",
         "version": "2.0.2"
        },
        {
         "module": "notebook",
         "version": "5.4.0"
        }
       ]
      },
      "text/html": [
       "<table><tr><th>Software</th><th>Version</th></tr><tr><td>Python</td><td>3.6.1 64bit [GCC 4.2.1 Compatible Apple LLVM 6.0 (clang-600.0.57)]</td></tr><tr><td>IPython</td><td>6.2.1</td></tr><tr><td>OS</td><td>Darwin 17.6.0 x86_64 i386 64bit</td></tr><tr><td>scipy</td><td>1.0.0</td></tr><tr><td>numpy</td><td>1.12.1</td></tr><tr><td>csv</td><td>1.0</td></tr><tr><td>pandas</td><td>0.22.0</td></tr><tr><td>matplotlib</td><td>2.0.2</td></tr><tr><td>notebook</td><td>5.4.0</td></tr><tr><td colspan='2'>Fri Apr 20 14:49:55 2018 PDT</td></tr></table>"
      ],
      "text/latex": [
       "\\begin{tabular}{|l|l|}\\hline\n",
       "{\\bf Software} & {\\bf Version} \\\\ \\hline\\hline\n",
       "Python & 3.6.1 64bit [GCC 4.2.1 Compatible Apple LLVM 6.0 (clang-600.0.57)] \\\\ \\hline\n",
       "IPython & 6.2.1 \\\\ \\hline\n",
       "OS & Darwin 17.6.0 x86\\letterunderscore{}64 i386 64bit \\\\ \\hline\n",
       "scipy & 1.0.0 \\\\ \\hline\n",
       "numpy & 1.12.1 \\\\ \\hline\n",
       "csv & 1.0 \\\\ \\hline\n",
       "pandas & 0.22.0 \\\\ \\hline\n",
       "matplotlib & 2.0.2 \\\\ \\hline\n",
       "notebook & 5.4.0 \\\\ \\hline\n",
       "\\hline \\multicolumn{2}{|l|}{Fri Apr 20 14:49:55 2018 PDT} \\\\ \\hline\n",
       "\\end{tabular}\n"
      ],
      "text/plain": [
       "Software versions\n",
       "Python 3.6.1 64bit [GCC 4.2.1 Compatible Apple LLVM 6.0 (clang-600.0.57)]\n",
       "IPython 6.2.1\n",
       "OS Darwin 17.6.0 x86_64 i386 64bit\n",
       "scipy 1.0.0\n",
       "numpy 1.12.1\n",
       "csv 1.0\n",
       "pandas 0.22.0\n",
       "matplotlib 2.0.2\n",
       "notebook 5.4.0\n",
       "Fri Apr 20 14:49:55 2018 PDT"
      ]
     },
     "execution_count": 6,
     "metadata": {},
     "output_type": "execute_result"
    }
   ],
   "source": [
    "# version information\n",
    "%load_ext version_information\n",
    "%version_information scipy, numpy, csv, pandas, matplotlib, notebook"
   ]
  },
  {
   "cell_type": "code",
   "execution_count": null,
   "metadata": {},
   "outputs": [],
   "source": []
  },
  {
   "cell_type": "code",
   "execution_count": null,
   "metadata": {},
   "outputs": [],
   "source": []
  }
 ],
 "metadata": {
  "anaconda-cloud": {},
  "kernelspec": {
   "display_name": "Python 3",
   "language": "python",
   "name": "python3"
  },
  "language_info": {
   "codemirror_mode": {
    "name": "ipython",
    "version": 3
   },
   "file_extension": ".py",
   "mimetype": "text/x-python",
   "name": "python",
   "nbconvert_exporter": "python",
   "pygments_lexer": "ipython3",
   "version": "3.6.1"
  }
 },
 "nbformat": 4,
 "nbformat_minor": 1
}
